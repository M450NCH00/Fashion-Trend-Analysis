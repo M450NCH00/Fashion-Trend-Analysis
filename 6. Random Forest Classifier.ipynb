{
 "cells": [
  {
   "cell_type": "markdown",
   "id": "6775e083",
   "metadata": {},
   "source": [
    "# Importing Necessary Modules"
   ]
  },
  {
   "cell_type": "code",
   "execution_count": 13,
   "id": "30b801de",
   "metadata": {},
   "outputs": [],
   "source": [
    "import numpy as np\n",
    "import pandas as pd\n",
    "import seaborn as sb\n",
    "import matplotlib.pyplot as plt \n",
    "from sklearn.linear_model import LinearRegression\n",
    "from sklearn.metrics import confusion_matrix\n",
    "from sklearn.model_selection import train_test_split\n",
    "from sklearn.tree import DecisionTreeClassifier, plot_tree\n",
    "from sklearn.metrics import accuracy_score\n",
    "from sklearn.metrics import mean_squared_error\n",
    "from mpl_toolkits.mplot3d import Axes3D\n",
    "from sklearn.ensemble import RandomForestClassifier\n",
    "from sklearn.preprocessing import OneHotEncoder\n",
    "sb.set()\n",
    "\n",
    "fashiondata_raw = pd.read_csv('fashion_data_2018_2022.csv')\n",
    "fashiondata_extracted = pd.DataFrame(fashiondata_raw[[\"gender\", \"color\", \"price\", \"material\", \"year_of_sale\", \"age_group\", \"season\", \"category\", \"sales_count\", \"average_rating\"]])\n",
    "\n",
    "df = fashiondata_extracted.groupby(['year_of_sale', 'season', 'category']).sum()\n",
    "pivoted = pd.pivot_table(df, values='sales_count', index=['year_of_sale', 'season'], columns=['category'])\n",
    "pivoted = pivoted.fillna(0).astype(int)\n",
    "\n",
    "summed_sales = pivoted.sum(axis=1)\n",
    "finaldataset = pd.DataFrame(summed_sales, columns=['total_sales'])"
   ]
  },
  {
   "cell_type": "markdown",
   "id": "64b42a57",
   "metadata": {},
   "source": [
    "# Using One-Hot Encoding for Categorical Predictors\n",
    "### One-hot encoding is a technique used to convert categorical data into a numerical format that can be provided to machine learning algorithms to improve the performance of a model."
   ]
  },
  {
   "cell_type": "code",
   "execution_count": 14,
   "id": "9f0371e6",
   "metadata": {},
   "outputs": [
    {
     "name": "stdout",
     "output_type": "stream",
     "text": [
      "<class 'pandas.core.frame.DataFrame'>\n",
      "RangeIndex: 660 entries, 0 to 659\n",
      "Data columns (total 32 columns):\n",
      " #   Column                 Non-Null Count  Dtype  \n",
      "---  ------                 --------------  -----  \n",
      " 0   material_Cotton        660 non-null    float64\n",
      " 1   material_Cotton Blend  660 non-null    float64\n",
      " 2   material_Denim         660 non-null    float64\n",
      " 3   material_Leather       660 non-null    float64\n",
      " 4   material_Synthetic     660 non-null    float64\n",
      " 5   material_Viscose       660 non-null    float64\n",
      " 6   material_Wool          660 non-null    float64\n",
      " 7   season_All             660 non-null    float64\n",
      " 8   season_Autumn          660 non-null    float64\n",
      " 9   season_Spring          660 non-null    float64\n",
      " 10  season_Summer          660 non-null    float64\n",
      " 11  season_Winter          660 non-null    float64\n",
      " 12  color_Beige            660 non-null    float64\n",
      " 13  color_Black            660 non-null    float64\n",
      " 14  color_Brown            660 non-null    float64\n",
      " 15  color_Green            660 non-null    float64\n",
      " 16  color_Grey             660 non-null    float64\n",
      " 17  color_Navy Blue        660 non-null    float64\n",
      " 18  color_Orange           660 non-null    float64\n",
      " 19  color_Pink             660 non-null    float64\n",
      " 20  color_Red              660 non-null    float64\n",
      " 21  color_Sky Blue         660 non-null    float64\n",
      " 22  color_White            660 non-null    float64\n",
      " 23  color_Yellow           660 non-null    float64\n",
      " 24  category_Blouse        660 non-null    float64\n",
      " 25  category_Dress         660 non-null    float64\n",
      " 26  category_Jacket        660 non-null    float64\n",
      " 27  category_Jeans         660 non-null    float64\n",
      " 28  category_Shirt         660 non-null    float64\n",
      " 29  category_Shoes         660 non-null    float64\n",
      " 30  category_Shorts        660 non-null    float64\n",
      " 31  category_Skirt         660 non-null    float64\n",
      "dtypes: float64(32)\n",
      "memory usage: 165.1 KB\n"
     ]
    }
   ],
   "source": [
    "ohe = OneHotEncoder()\n",
    "\n",
    "# OneHotEncoding of categorical predictors (not the response)\n",
    "fashiondata_extracted_cat = fashiondata_extracted[['material','season', 'color', 'category']]\n",
    "ohe.fit(fashiondata_extracted_cat)\n",
    "fashiondata_extracted_cat_ohe = pd.DataFrame(ohe.transform(fashiondata_extracted_cat).toarray(), \n",
    "                                  columns=ohe.get_feature_names_out(fashiondata_extracted_cat.columns))\n",
    "\n",
    "# Check the encoded variables\n",
    "fashiondata_extracted_cat_ohe.info()"
   ]
  },
  {
   "cell_type": "code",
   "execution_count": 15,
   "id": "50e779d2",
   "metadata": {},
   "outputs": [
    {
     "name": "stdout",
     "output_type": "stream",
     "text": [
      "<class 'pandas.core.frame.DataFrame'>\n",
      "RangeIndex: 660 entries, 0 to 659\n",
      "Data columns (total 37 columns):\n",
      " #   Column                 Non-Null Count  Dtype  \n",
      "---  ------                 --------------  -----  \n",
      " 0   price                  660 non-null    float64\n",
      " 1   sales_count            660 non-null    int64  \n",
      " 2   average_rating         660 non-null    float64\n",
      " 3   year_of_sale           660 non-null    int64  \n",
      " 4   material_Cotton        660 non-null    float64\n",
      " 5   material_Cotton Blend  660 non-null    float64\n",
      " 6   material_Denim         660 non-null    float64\n",
      " 7   material_Leather       660 non-null    float64\n",
      " 8   material_Synthetic     660 non-null    float64\n",
      " 9   material_Viscose       660 non-null    float64\n",
      " 10  material_Wool          660 non-null    float64\n",
      " 11  season_All             660 non-null    float64\n",
      " 12  season_Autumn          660 non-null    float64\n",
      " 13  season_Spring          660 non-null    float64\n",
      " 14  season_Summer          660 non-null    float64\n",
      " 15  season_Winter          660 non-null    float64\n",
      " 16  color_Beige            660 non-null    float64\n",
      " 17  color_Black            660 non-null    float64\n",
      " 18  color_Brown            660 non-null    float64\n",
      " 19  color_Green            660 non-null    float64\n",
      " 20  color_Grey             660 non-null    float64\n",
      " 21  color_Navy Blue        660 non-null    float64\n",
      " 22  color_Orange           660 non-null    float64\n",
      " 23  color_Pink             660 non-null    float64\n",
      " 24  color_Red              660 non-null    float64\n",
      " 25  color_Sky Blue         660 non-null    float64\n",
      " 26  color_White            660 non-null    float64\n",
      " 27  color_Yellow           660 non-null    float64\n",
      " 28  category_Blouse        660 non-null    float64\n",
      " 29  category_Dress         660 non-null    float64\n",
      " 30  category_Jacket        660 non-null    float64\n",
      " 31  category_Jeans         660 non-null    float64\n",
      " 32  category_Shirt         660 non-null    float64\n",
      " 33  category_Shoes         660 non-null    float64\n",
      " 34  category_Shorts        660 non-null    float64\n",
      " 35  category_Skirt         660 non-null    float64\n",
      " 36  gender                 660 non-null    object \n",
      "dtypes: float64(34), int64(2), object(1)\n",
      "memory usage: 190.9+ KB\n"
     ]
    }
   ],
   "source": [
    "fashiondata_extracted_num = fashiondata_extracted[['price','sales_count','average_rating', 'year_of_sale']]\n",
    "fashiondata_extracted_res = fashiondata_extracted['gender']\n",
    "fashiondata_ohe = pd.concat([fashiondata_extracted_num, fashiondata_extracted_cat_ohe, fashiondata_extracted_res], \n",
    "                           sort = False, axis = 1).reindex(index=fashiondata_extracted_num.index)\n",
    "\n",
    "# Check the final dataframe\n",
    "fashiondata_ohe.info()"
   ]
  },
  {
   "cell_type": "markdown",
   "id": "e5a06402",
   "metadata": {},
   "source": [
    "# Splitting Data into Train and Test Dataset"
   ]
  },
  {
   "cell_type": "code",
   "execution_count": 16,
   "id": "a5922841",
   "metadata": {},
   "outputs": [],
   "source": [
    "y = pd.DataFrame(fashiondata_ohe['gender'])\n",
    "X = pd.DataFrame(fashiondata_ohe.drop('gender', axis = 1))\n",
    "\n",
    "X_train, X_test, y_train, y_test = train_test_split(X, y, test_size = 0.25)"
   ]
  },
  {
   "cell_type": "markdown",
   "id": "db5b68b2",
   "metadata": {},
   "source": [
    "# Fitting Data into Random Forest Classifier"
   ]
  },
  {
   "cell_type": "code",
   "execution_count": 17,
   "id": "dadb9f6e",
   "metadata": {},
   "outputs": [
    {
     "data": {
      "text/html": [
       "<style>#sk-container-id-2 {color: black;}#sk-container-id-2 pre{padding: 0;}#sk-container-id-2 div.sk-toggleable {background-color: white;}#sk-container-id-2 label.sk-toggleable__label {cursor: pointer;display: block;width: 100%;margin-bottom: 0;padding: 0.3em;box-sizing: border-box;text-align: center;}#sk-container-id-2 label.sk-toggleable__label-arrow:before {content: \"▸\";float: left;margin-right: 0.25em;color: #696969;}#sk-container-id-2 label.sk-toggleable__label-arrow:hover:before {color: black;}#sk-container-id-2 div.sk-estimator:hover label.sk-toggleable__label-arrow:before {color: black;}#sk-container-id-2 div.sk-toggleable__content {max-height: 0;max-width: 0;overflow: hidden;text-align: left;background-color: #f0f8ff;}#sk-container-id-2 div.sk-toggleable__content pre {margin: 0.2em;color: black;border-radius: 0.25em;background-color: #f0f8ff;}#sk-container-id-2 input.sk-toggleable__control:checked~div.sk-toggleable__content {max-height: 200px;max-width: 100%;overflow: auto;}#sk-container-id-2 input.sk-toggleable__control:checked~label.sk-toggleable__label-arrow:before {content: \"▾\";}#sk-container-id-2 div.sk-estimator input.sk-toggleable__control:checked~label.sk-toggleable__label {background-color: #d4ebff;}#sk-container-id-2 div.sk-label input.sk-toggleable__control:checked~label.sk-toggleable__label {background-color: #d4ebff;}#sk-container-id-2 input.sk-hidden--visually {border: 0;clip: rect(1px 1px 1px 1px);clip: rect(1px, 1px, 1px, 1px);height: 1px;margin: -1px;overflow: hidden;padding: 0;position: absolute;width: 1px;}#sk-container-id-2 div.sk-estimator {font-family: monospace;background-color: #f0f8ff;border: 1px dotted black;border-radius: 0.25em;box-sizing: border-box;margin-bottom: 0.5em;}#sk-container-id-2 div.sk-estimator:hover {background-color: #d4ebff;}#sk-container-id-2 div.sk-parallel-item::after {content: \"\";width: 100%;border-bottom: 1px solid gray;flex-grow: 1;}#sk-container-id-2 div.sk-label:hover label.sk-toggleable__label {background-color: #d4ebff;}#sk-container-id-2 div.sk-serial::before {content: \"\";position: absolute;border-left: 1px solid gray;box-sizing: border-box;top: 0;bottom: 0;left: 50%;z-index: 0;}#sk-container-id-2 div.sk-serial {display: flex;flex-direction: column;align-items: center;background-color: white;padding-right: 0.2em;padding-left: 0.2em;position: relative;}#sk-container-id-2 div.sk-item {position: relative;z-index: 1;}#sk-container-id-2 div.sk-parallel {display: flex;align-items: stretch;justify-content: center;background-color: white;position: relative;}#sk-container-id-2 div.sk-item::before, #sk-container-id-2 div.sk-parallel-item::before {content: \"\";position: absolute;border-left: 1px solid gray;box-sizing: border-box;top: 0;bottom: 0;left: 50%;z-index: -1;}#sk-container-id-2 div.sk-parallel-item {display: flex;flex-direction: column;z-index: 1;position: relative;background-color: white;}#sk-container-id-2 div.sk-parallel-item:first-child::after {align-self: flex-end;width: 50%;}#sk-container-id-2 div.sk-parallel-item:last-child::after {align-self: flex-start;width: 50%;}#sk-container-id-2 div.sk-parallel-item:only-child::after {width: 0;}#sk-container-id-2 div.sk-dashed-wrapped {border: 1px dashed gray;margin: 0 0.4em 0.5em 0.4em;box-sizing: border-box;padding-bottom: 0.4em;background-color: white;}#sk-container-id-2 div.sk-label label {font-family: monospace;font-weight: bold;display: inline-block;line-height: 1.2em;}#sk-container-id-2 div.sk-label-container {text-align: center;}#sk-container-id-2 div.sk-container {/* jupyter's `normalize.less` sets `[hidden] { display: none; }` but bootstrap.min.css set `[hidden] { display: none !important; }` so we also need the `!important` here to be able to override the default hidden behavior on the sphinx rendered scikit-learn.org. See: https://github.com/scikit-learn/scikit-learn/issues/21755 */display: inline-block !important;position: relative;}#sk-container-id-2 div.sk-text-repr-fallback {display: none;}</style><div id=\"sk-container-id-2\" class=\"sk-top-container\"><div class=\"sk-text-repr-fallback\"><pre>RandomForestClassifier(max_depth=4)</pre><b>In a Jupyter environment, please rerun this cell to show the HTML representation or trust the notebook. <br />On GitHub, the HTML representation is unable to render, please try loading this page with nbviewer.org.</b></div><div class=\"sk-container\" hidden><div class=\"sk-item\"><div class=\"sk-estimator sk-toggleable\"><input class=\"sk-toggleable__control sk-hidden--visually\" id=\"sk-estimator-id-2\" type=\"checkbox\" checked><label for=\"sk-estimator-id-2\" class=\"sk-toggleable__label sk-toggleable__label-arrow\">RandomForestClassifier</label><div class=\"sk-toggleable__content\"><pre>RandomForestClassifier(max_depth=4)</pre></div></div></div></div></div>"
      ],
      "text/plain": [
       "RandomForestClassifier(max_depth=4)"
      ]
     },
     "execution_count": 17,
     "metadata": {},
     "output_type": "execute_result"
    }
   ],
   "source": [
    "rforest = RandomForestClassifier(n_estimators = 100,   \n",
    "                                 max_depth = 4)       \n",
    "\n",
    "# Fit Random Forest on Train Data\n",
    "rforest.fit(X_train, y_train.gender.ravel())"
   ]
  },
  {
   "cell_type": "markdown",
   "id": "7508dbbe",
   "metadata": {},
   "source": [
    "# Confusion Matrix and Performance Metrics for Training Data"
   ]
  },
  {
   "cell_type": "code",
   "execution_count": 18,
   "id": "944e4aef",
   "metadata": {},
   "outputs": [
    {
     "name": "stdout",
     "output_type": "stream",
     "text": [
      "Train Data\n",
      "Accuracy  :\t 0.7797979797979798\n",
      "\n",
      "TPR Train :\t 0.6329113924050633\n",
      "TNR Train :\t 0.9147286821705426\n",
      "\n",
      "FPR Train :\t 0.08527131782945736\n",
      "FNR Train :\t 0.3670886075949367\n"
     ]
    },
    {
     "data": {
      "text/plain": [
       "<Axes: >"
      ]
     },
     "execution_count": 18,
     "metadata": {},
     "output_type": "execute_result"
    },
    {
     "data": {
      "image/png": "[encoded data removed]",
      "text/plain": [
       "<Figure size 640x480 with 2 Axes>"
      ]
     },
     "metadata": {},
     "output_type": "display_data"
    }
   ],
   "source": [
    "y_train_pred = rforest.predict(X_train)\n",
    "\n",
    "# Print the Classification Accuracy\n",
    "print(\"Train Data\")\n",
    "print(\"Accuracy  :\\t\", rforest.score(X_train, y_train))\n",
    "print()\n",
    "\n",
    "# Print the Accuracy Measures from the Confusion Matrix\n",
    "cmTrain = confusion_matrix(y_train, y_train_pred)\n",
    "tpTrain = cmTrain[1][1] # True Positives : Good (1) predicted Good (1)\n",
    "fpTrain = cmTrain[0][1] # False Positives : Bad (0) predicted Good (1)\n",
    "tnTrain = cmTrain[0][0] # True Negatives : Bad (0) predicted Bad (0)\n",
    "fnTrain = cmTrain[1][0] # False Negatives : Good (1) predicted Bad (0)\n",
    "\n",
    "print(\"TPR Train :\\t\", (tpTrain/(tpTrain + fnTrain)))\n",
    "print(\"TNR Train :\\t\", (tnTrain/(tnTrain + fpTrain)))\n",
    "print()\n",
    "\n",
    "print(\"FPR Train :\\t\", (fpTrain/(tnTrain + fpTrain)))\n",
    "print(\"FNR Train :\\t\", (fnTrain/(tpTrain + fnTrain)))\n",
    "\n",
    "# Plot the two-way Confusion Matrix\n",
    "from sklearn.metrics import confusion_matrix\n",
    "\n",
    "sb.heatmap(confusion_matrix(y_train, y_train_pred), \n",
    "           annot = True, fmt=\".0f\", annot_kws={\"size\": 18})"
   ]
  },
  {
   "cell_type": "markdown",
   "id": "b7a7453e",
   "metadata": {},
   "source": [
    "# Confusion Matrix and Performance Metrics for Testing Data"
   ]
  },
  {
   "cell_type": "code",
   "execution_count": 20,
   "id": "d3643dbe",
   "metadata": {},
   "outputs": [
    {
     "name": "stdout",
     "output_type": "stream",
     "text": [
      "Test Data\n",
      "Accuracy  :\t 0.46060606060606063\n",
      "\n",
      "TPR Test :\t 0.358695652173913\n",
      "TNR Test :\t 0.589041095890411\n",
      "\n",
      "FPR Test :\t 0.410958904109589\n",
      "FNR Test :\t 0.6413043478260869\n"
     ]
    },
    {
     "data": {
      "text/plain": [
       "<Axes: >"
      ]
     },
     "execution_count": 20,
     "metadata": {},
     "output_type": "execute_result"
    },
    {
     "data": {
      "image/png": "[encoded data removed]",
      "text/plain": [
       "<Figure size 640x480 with 2 Axes>"
      ]
     },
     "metadata": {},
     "output_type": "display_data"
    }
   ],
   "source": [
    "y_test_pred = rforest.predict(X_test)\n",
    "\n",
    "# Print the Classification Accuracy\n",
    "print(\"Test Data\")\n",
    "print(\"Accuracy  :\\t\", rforest.score(X_test, y_test))\n",
    "print()\n",
    "\n",
    "# Print the Accuracy Measures from the Confusion Matrix\n",
    "cmTest = confusion_matrix(y_test, y_test_pred)\n",
    "tpTest = cmTest[1][1] # True Positives : Good (1) predicted Good (1)\n",
    "fpTest = cmTest[0][1] # False Positives : Bad (0) predicted Good (1)\n",
    "tnTest = cmTest[0][0] # True Negatives : Bad (0) predicted Bad (0)\n",
    "fnTest = cmTest[1][0] # False Negatives : Good (1) predicted Bad (0)\n",
    "\n",
    "print(\"TPR Test :\\t\", (tpTest/(tpTest + fnTest)))\n",
    "print(\"TNR Test :\\t\", (tnTest/(tnTest + fpTest)))\n",
    "print()\n",
    "\n",
    "print(\"FPR Test :\\t\", (fpTest/(fpTest + tnTest)))\n",
    "print(\"FNR Test :\\t\", (fnTest/(fnTest + tpTest)))\n",
    "\n",
    "# Plot the two-way Confusion Matrix\n",
    "sb.heatmap(confusion_matrix(y_test, y_test_pred), \n",
    "           annot = True, fmt=\".0f\", annot_kws={\"size\": 18})"
   ]
  }
 ],
 "metadata": {
  "kernelspec": {
   "display_name": "Python 3 (ipykernel)",
   "language": "python",
   "name": "python3"
  },
  "language_info": {
   "codemirror_mode": {
    "name": "ipython",
    "version": 3
   },
   "file_extension": ".py",
   "mimetype": "text/x-python",
   "name": "python",
   "nbconvert_exporter": "python",
   "pygments_lexer": "ipython3",
   "version": "3.11.5"
  }
 },
 "nbformat": 4,
 "nbformat_minor": 5
}
